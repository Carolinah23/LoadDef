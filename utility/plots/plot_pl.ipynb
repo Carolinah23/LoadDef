{
 "cells": [
  {
   "cell_type": "code",
   "execution_count": 1,
   "metadata": {},
   "outputs": [],
   "source": [
    "#!/usr/bin/env python"
   ]
  },
  {
   "cell_type": "markdown",
   "metadata": {},
   "source": [
    "*********************************************************************<br>\n",
    "PROGRAM TO PLOT PARTIAL DERIVATIVES OF LOVE NUMBERS (OUTPUT FROM run_pl.py)<br>\n",
    "LITERATURE: Okubo & Saito (1983), Okubo & Endo (1986), <br>\n",
    "            Martens et al. (2016, JGR-Solid Earth), Martens (2016, Caltech)<br>\n",
    "<br>\n",
    "Copyright (c) 2014-2019: HILARY R. MARTENS, LUIS RIVERA, MARK SIMONS         <br>\n",
    "<br>\n",
    "This file is part of LoadDef.<br>\n",
    "<br>\n",
    "   LoadDef is free software: you can redistribute it and/or modify<br>\n",
    "   it under the terms of the GNU General Public License as published by<br>\n",
    "   the Free Software Foundation, either version 3 of the License, or<br>\n",
    "   any later version.<br>\n",
    "<br>\n",
    "   LoadDef is distributed in the hope that it will be useful,<br>\n",
    "   but WITHOUT ANY WARRANTY; without even the implied warranty of<br>\n",
    "   MERCHANTABILITY or FITNESS FOR A PARTICULAR PURPOSE.  See the<br>\n",
    "   GNU General Public License for more details.<br>\n",
    "<br>\n",
    "   You should have received a copy of the GNU General Public License<br>\n",
    "   along with LoadDef.  If not, see <https://www.gnu.org/licenses/>.<br>\n",
    "<br>\n",
    "*********************************************************************"
   ]
  },
  {
   "cell_type": "markdown",
   "metadata": {},
   "source": [
    "MODIFY PYTHON PATH TO INCLUDE 'LoadDef' DIRECTORY"
   ]
  },
  {
   "cell_type": "code",
   "execution_count": 2,
   "metadata": {},
   "outputs": [],
   "source": [
    "from __future__ import print_function\n",
    "import sys\n",
    "import os\n",
    "sys.path.append(os.getcwd() + \"/../../\")"
   ]
  },
  {
   "cell_type": "markdown",
   "metadata": {},
   "source": [
    "Import Python Modules"
   ]
  },
  {
   "cell_type": "code",
   "execution_count": 3,
   "metadata": {},
   "outputs": [],
   "source": [
    "import matplotlib.pyplot as plt\n",
    "import matplotlib.colorbar as clb\n",
    "import matplotlib.cm as cm\n",
    "from matplotlib.ticker import LinearLocator, MultipleLocator, FormatStrFormatter, MaxNLocator\n",
    "import numpy as np\n",
    "import math"
   ]
  },
  {
   "cell_type": "markdown",
   "metadata": {},
   "source": [
    "## USER INPUT ####"
   ]
  },
  {
   "cell_type": "markdown",
   "metadata": {},
   "source": [
    "Spherical Harmonic Degree"
   ]
  },
  {
   "cell_type": "code",
   "execution_count": 4,
   "metadata": {},
   "outputs": [],
   "source": [
    "cn = 2"
   ]
  },
  {
   "cell_type": "markdown",
   "metadata": {},
   "source": [
    "Type of Love Number (Load = 'lln'; Potential/Tide = 'pln'; Shear = 'sln'; Stress (n=1) = 'sln')"
   ]
  },
  {
   "cell_type": "code",
   "execution_count": 5,
   "metadata": {},
   "outputs": [],
   "source": [
    "lntype = 'lln'"
   ]
  },
  {
   "cell_type": "markdown",
   "metadata": {},
   "source": [
    "Earth Model"
   ]
  },
  {
   "cell_type": "code",
   "execution_count": 6,
   "metadata": {},
   "outputs": [],
   "source": [
    "emod = 'PREM'"
   ]
  },
  {
   "cell_type": "markdown",
   "metadata": {},
   "source": [
    "Homogeneous Sphere? "
   ]
  },
  {
   "cell_type": "code",
   "execution_count": 7,
   "metadata": {},
   "outputs": [],
   "source": [
    "homsph = False; hsvp = 10000.; hsvs = 5000.; hsrho = 5000."
   ]
  },
  {
   "cell_type": "markdown",
   "metadata": {},
   "source": [
    "Output Figure Name"
   ]
  },
  {
   "cell_type": "code",
   "execution_count": 8,
   "metadata": {},
   "outputs": [],
   "source": [
    "figname = (\"Partial_Derivatives_\"+lntype+\"_n\"+str(cn)+\"_\"+emod+\".pdf\")"
   ]
  },
  {
   "cell_type": "markdown",
   "metadata": {},
   "source": [
    "Filenames for Partial Derivative Files"
   ]
  },
  {
   "cell_type": "code",
   "execution_count": 9,
   "metadata": {},
   "outputs": [],
   "source": [
    "partial = (\"../../output/Love_Numbers/Partials/\"+lntype+\"_n\"+str(cn)+\"_\"+emod+\"_partials.txt\")"
   ]
  },
  {
   "cell_type": "markdown",
   "metadata": {},
   "source": [
    "Define the \"Okubo & Saito (1983)\" Normalization Factor"
   ]
  },
  {
   "cell_type": "code",
   "execution_count": 10,
   "metadata": {},
   "outputs": [],
   "source": [
    "osfact = 1. / (6371./1E4) "
   ]
  },
  {
   "cell_type": "markdown",
   "metadata": {},
   "source": [
    "Radius Range (km)<br>\n",
    " :: rmin = 3480., n=2; rmin = 5850., n=100 ; rmin = 6330., n=1000 ; rmin = 6366., n=10000"
   ]
  },
  {
   "cell_type": "code",
   "execution_count": 11,
   "metadata": {},
   "outputs": [],
   "source": [
    "rmin = 3480.; rmax = 6371.\n",
    "if (cn >= 100.):\n",
    "    rmin = 5850.; rmax = 6371.\n",
    "if (cn >= 1000.):\n",
    "    rmin = 6330.; rmax = 6371.\n",
    "if (cn >= 10000.):\n",
    "    rmin = 6366.; rmax = 6371.\n",
    "if (homsph == True):\n",
    "    rmin = 80.; rmax = 6371."
   ]
  },
  {
   "cell_type": "markdown",
   "metadata": {},
   "source": [
    "Convert to Depth"
   ]
  },
  {
   "cell_type": "code",
   "execution_count": 12,
   "metadata": {},
   "outputs": [],
   "source": [
    "dmin = 6371.-rmin; dmax = 6371.-rmax\n",
    "useDepth = True # Toggle between depth and radius"
   ]
  },
  {
   "cell_type": "markdown",
   "metadata": {},
   "source": [
    "Number of Ticks"
   ]
  },
  {
   "cell_type": "code",
   "execution_count": 13,
   "metadata": {},
   "outputs": [],
   "source": [
    "numxticks = 5"
   ]
  },
  {
   "cell_type": "markdown",
   "metadata": {},
   "source": [
    "Tick Spacing (Y-axis)<br>\n",
    " :: 500. for n=2; 100. for n=100; 10. for n=1000; 1. for n=10000"
   ]
  },
  {
   "cell_type": "code",
   "execution_count": 14,
   "metadata": {},
   "outputs": [],
   "source": [
    "ytickspace = 500.\n",
    "if (homsph == True):\n",
    "    ytickspace = 1000.\n",
    "if (cn >= 100.):\n",
    "    ytickspace = 100.\n",
    "if (cn >= 1000.):\n",
    "    ytickspace = 10.\n",
    "if (cn >= 10000.):\n",
    "    ytickspace = 1."
   ]
  },
  {
   "cell_type": "markdown",
   "metadata": {},
   "source": [
    "Xtick Format"
   ]
  },
  {
   "cell_type": "code",
   "execution_count": 15,
   "metadata": {},
   "outputs": [],
   "source": [
    "majorFormatter = FormatStrFormatter('%.3G')\n",
    "xtickrot = 25"
   ]
  },
  {
   "cell_type": "markdown",
   "metadata": {},
   "source": [
    "Ytick Format"
   ]
  },
  {
   "cell_type": "code",
   "execution_count": 16,
   "metadata": {},
   "outputs": [],
   "source": [
    "majorFormatterY = FormatStrFormatter('%d')"
   ]
  },
  {
   "cell_type": "markdown",
   "metadata": {},
   "source": [
    "Optionally Set XLims"
   ]
  },
  {
   "cell_type": "code",
   "execution_count": 17,
   "metadata": {},
   "outputs": [],
   "source": [
    "setXLim = True\n",
    "if (setXLim == True):\n",
    "    if (lntype == 'lln'):\n",
    "        xmin1 = -3.; xmax1 = 3.\n",
    "        xmin2 = -1.; xmax2 = 1.\n",
    "        xmin3 = -2.; xmax3 = 2.\n",
    "        xmin4 = -2.; xmax4 = 2.\n",
    "        xmin5 = -2.; xmax5 = 2.\n",
    "        xmin6 = -1.; xmax6 = 1.\n",
    "        xmin7 = -10.; xmax7 = 10.\n",
    "        xmin8 = -16.; xmax8 = 16.\n",
    "        xmin9 = -5.; xmax9 = 5.\n",
    "    elif (lntype == 'pln'):\n",
    "        xmin1 = -3.0; xmax1 = 3.0\n",
    "        xmin2 = -0.2; xmax2 = 0.2\n",
    "        xmin3 = -1.6; xmax3 = 1.6\n",
    "        xmin4 = -1.6; xmax4 = 1.6\n",
    "        xmin5 = -0.3; xmax5 = 0.3\n",
    "        xmin6 = -0.5; xmax6 = 0.5\n",
    "        xmin7 = -5.; xmax7 = 5.\n",
    "        xmin8 = -1.; xmax8 = 1.\n",
    "        xmin9 = -3.; xmax9 = 3.\n",
    "    elif (lntype == 'sln'):\n",
    "        xmin1 = -1.6; xmax1 = 1.6\n",
    "        xmin2 = -0.3; xmax2 = 0.3\n",
    "        xmin3 = -0.5; xmax3 = 0.5\n",
    "        xmin4 = -2.; xmax4 = 2.\n",
    "        xmin5 = -1.; xmax5 = 1.\n",
    "        xmin6 = -16.; xmax6 = 16.\n",
    "        xmin7 = -1.; xmax7 = 1.\n",
    "        xmin8 = -2.; xmax8 = 2.\n",
    "        xmin9 = -1.; xmax9 = 1.\n",
    "    if (lntype == 'lln'):\n",
    "        n1xmin1 = -5.; n1xmax1 = 10.\n",
    "        n1xmin2 = -5.; n1xmax2 = 10.\n",
    "        n1xmin3 = -5.; n1xmax3 = 10.\n",
    "        n1xmin4 = -2.; n1xmax4 = 3.\n",
    "        n1xmin5 = -2.; n1xmax5 = 3.\n",
    "        n1xmin6 = -2.; n1xmax6 = 3.\n",
    "    elif (lntype == 'sln'):\n",
    "        n1xmin1 = -5.; n1xmax1 = 10.\n",
    "        n1xmin2 = -5.; n1xmax2 = 10.\n",
    "        n1xmin3 = -5.; n1xmax3 = 10.\n",
    "        n1xmin4 = -20.; n1xmax4 = 10.\n",
    "        n1xmin5 = -20.; n1xmax5 = 10.\n",
    "        n1xmin6 = -20.; n1xmax6 = 10."
   ]
  },
  {
   "cell_type": "markdown",
   "metadata": {},
   "source": [
    "## BEGIN CODE "
   ]
  },
  {
   "cell_type": "markdown",
   "metadata": {},
   "source": [
    "Create Folder"
   ]
  },
  {
   "cell_type": "code",
   "execution_count": 18,
   "metadata": {},
   "outputs": [],
   "source": [
    "if not (os.path.isdir(\"./output/\")):\n",
    "    os.makedirs(\"./output/\")\n",
    "outdir = \"./output/\""
   ]
  },
  {
   "cell_type": "markdown",
   "metadata": {},
   "source": [
    "If Spherical Harmonic Degree 1 and Shear Love Number Selected, Alert User that the Stress Love Number will be Returned"
   ]
  },
  {
   "cell_type": "code",
   "execution_count": 19,
   "metadata": {},
   "outputs": [],
   "source": [
    "if ((cn==1) & (lntype=='sln')):\n",
    "    print(':: NOTE: For Spherical Harmonic Degree 1, the Shear Solution is Replaced by the Stress Solution (See Okubo & Endo [1986]).')"
   ]
  },
  {
   "cell_type": "markdown",
   "metadata": {},
   "source": [
    "Read the Files"
   ]
  },
  {
   "cell_type": "code",
   "execution_count": 20,
   "metadata": {},
   "outputs": [],
   "source": [
    "rint,imnd,iknd,irnd,dh_dmu,dh_dK,dh_drho,dl_dmu,dl_dK,dl_drho,dk_dmu,dk_dK,dk_drho = np.loadtxt(partial,unpack=True,skiprows=7)"
   ]
  },
  {
   "cell_type": "markdown",
   "metadata": {},
   "source": [
    "# Find Depth Below Which Elastic Moduli Sensitivities are < Threshold<br>\n",
    "threshold = 0.0001<br>\n",
    "hmu_idx = np.where(np.absolute(dh_dmu)/max(np.absolute(dh_dmu)) < threshold); hmu_idx = hmu_idx[0]<br>\n",
    "print(('dh_dmu falls below ', threshold, ' at: ', max(rint[hmu_idx]))<br>\n",
    "lmu_idx = np.where(np.diff(dl_dmu) < threshold); lmu_idx = lmu_idx[0]<br>\n",
    "print(('diff(dl_dmu) falls below ', threshold, ' at: ', max(rint[lmu_idx]))<br>\n",
    "hka_idx = np.where(np.absolute(dh_dK)/max(np.absolute(dh_dK)) < threshold); hka_idx = hka_idx[0]<br>\n",
    "print(('dh_dka falls below ', threshold, ' at: ', max(rint[hka_idx]))<br>\n",
    "lka_idx = np.where(np.absolute(dl_dK)/max(np.absolute(dl_dK)) < threshold); lka_idx = lka_idx[0]<br>\n",
    "print(('dl_dka falls below ', threshold, ' at: ', max(rint[lka_idx]))<br>\n",
    "print(('(r/a)^10000, 3km: ', (6367./6371.)**10000.))<br>\n",
    "print(('(r/a)^100, 300km: ', (6071./6371.)**100.))"
   ]
  },
  {
   "cell_type": "markdown",
   "metadata": {},
   "source": [
    "Integrate Partials"
   ]
  },
  {
   "cell_type": "code",
   "execution_count": 21,
   "metadata": {},
   "outputs": [
    {
     "name": "stdout",
     "output_type": "stream",
     "text": [
      "Integrated dh/dmu: 0.341049\n",
      "Integrated dl/dmu: 0.151048\n",
      "Integrated dk/dmu: 0.140756\n",
      "Integrated dh/dka: 0.724460\n",
      "Integrated dl/dka: -0.193006\n",
      "Integrated dk/dka: 0.088225\n",
      "Integrated dh/dro: -1.630782\n",
      "Integrated dl/dro: 0.225962\n",
      "Integrated dk/dro: -0.483465\n"
     ]
    }
   ],
   "source": [
    "int_dh_dmu = np.trapz(dh_dmu,rint)/rint[-1]\n",
    "int_dl_dmu = np.trapz(dl_dmu,rint)/rint[-1]\n",
    "int_dk_dmu = np.trapz(dk_dmu,rint)/rint[-1]\n",
    "int_dh_dka = np.trapz(dh_dK,rint)/rint[-1]\n",
    "int_dl_dka = np.trapz(dl_dK,rint)/rint[-1]\n",
    "int_dk_dka = np.trapz(dk_dK,rint)/rint[-1]\n",
    "int_dh_dro = np.trapz(dh_drho,rint)/rint[-1]\n",
    "int_dl_dro = np.trapz(dl_drho,rint)/rint[-1]\n",
    "int_dk_dro = np.trapz(dk_drho,rint)/rint[-1]\n",
    "print('Integrated dh/dmu: %f' %int_dh_dmu)\n",
    "print('Integrated dl/dmu: %f' %int_dl_dmu)\n",
    "print('Integrated dk/dmu: %f' %int_dk_dmu)\n",
    "print('Integrated dh/dka: %f' %int_dh_dka)\n",
    "print('Integrated dl/dka: %f' %int_dl_dka)\n",
    "print('Integrated dk/dka: %f' %int_dk_dka)\n",
    "print('Integrated dh/dro: %f' %int_dh_dro)\n",
    "print('Integrated dl/dro: %f' %int_dl_dro)\n",
    "print('Integrated dk/dro: %f' %int_dk_dro)"
   ]
  },
  {
   "cell_type": "markdown",
   "metadata": {},
   "source": [
    "Homogeneous Sphere Love Number Perturbations"
   ]
  },
  {
   "cell_type": "code",
   "execution_count": 22,
   "metadata": {},
   "outputs": [],
   "source": [
    "if (homsph == True):\n",
    "    mu = (hsvs**2.)*hsrho \n",
    "    mupert = mu*0.1 \n",
    "    rhopert = hsrho*0.1\n",
    "    # Non-Dimensionalize Parameters\n",
    "    L_sc = 6371000.                      # radius of Earth\n",
    "    R_sc = 5500.\n",
    "    pi = np.pi\n",
    "    piG = 1.                             # pi*G\n",
    "    T_sc = 1./(math.sqrt(R_sc*pi*(6.67*(10**(-11.)))))     # time\n",
    "    ndmupert = mupert/(R_sc*(L_sc**2.)*(T_sc**(-2.)))\n",
    "    ndrhopert = rhopert/(R_sc)\n",
    "    # Some Examples\n",
    "    #print(('Homogeneous Sphere, mu perturbed, non-dimen.: ', ndmupert))\n",
    "    #print(('Homogeneous Sphere dh, mu pert: ', int_dh_dmu*ndmupert))\n",
    "    #print(('Homogeneous Sphere dh, rho pert: ', int_dh_dro*ndrhopert))"
   ]
  },
  {
   "cell_type": "markdown",
   "metadata": {},
   "source": [
    "Convert to Depth"
   ]
  },
  {
   "cell_type": "code",
   "execution_count": 23,
   "metadata": {},
   "outputs": [],
   "source": [
    "dint = 6371.-rint"
   ]
  },
  {
   "cell_type": "markdown",
   "metadata": {},
   "source": [
    "Select Radius or Depth"
   ]
  },
  {
   "cell_type": "code",
   "execution_count": 24,
   "metadata": {},
   "outputs": [],
   "source": [
    "if (useDepth == True):\n",
    "    rint = dint\n",
    "    rmin = dmin\n",
    "    rmax = dmax"
   ]
  },
  {
   "cell_type": "markdown",
   "metadata": {},
   "source": [
    "Plot Figure"
   ]
  },
  {
   "cell_type": "code",
   "execution_count": 25,
   "metadata": {},
   "outputs": [
    {
     "data": {
      "image/png": "[encoded data removed]",
      "text/plain": [
       "<Figure size 640x480 with 9 Axes>"
      ]
     },
     "metadata": {},
     "output_type": "display_data"
    }
   ],
   "source": [
    "fig1=plt.figure()\n",
    "if (cn > 1):\n",
    "    ax = plt.subplot(3,3,9)\n",
    "    plt.plot(np.multiply(dh_dmu*osfact,imnd),rint,linewidth=2,color='k')\n",
    "    if (lntype == 'lln'):\n",
    "        plt.title(r'$\\mu (\\partial h^\\prime$/$\\partial \\mu)$, n='+str(cn),fontsize='small')\n",
    "    elif (lntype == 'pln'):\n",
    "        plt.title(r'$\\mu (\\partial h$/$\\partial \\mu)$, n='+str(cn),fontsize='small')\n",
    "    elif (lntype == 'sln'):\n",
    "        plt.title(r'$\\mu (\\partial h^{\\prime\\prime}$/$\\partial \\mu)$, n='+str(cn),fontsize='small')\n",
    "    else:\n",
    "        sys.exit('Error: Incorrect Love Number Type. Please Specify \"lln\", \"pln\" or \"sln\".')\n",
    "    plt.ylim([rmin,rmax])\n",
    "    if (useDepth == True):\n",
    "        plt.ylabel('Depth [km] ', fontsize='x-small')\n",
    "    else:\n",
    "        plt.ylabel('Radius [km] ', fontsize='x-small')\n",
    "    plt.grid(True)\n",
    "    if (setXLim == True):\n",
    "        plt.xlim([xmin9,xmax9])\n",
    "    plt.tick_params(labelsize='x-small')\n",
    "    ax.get_xaxis().set_major_locator(MaxNLocator(numxticks))\n",
    "    ax.get_yaxis().set_major_locator(MultipleLocator(ytickspace))\n",
    "    ax.get_xaxis().set_major_formatter(majorFormatter)\n",
    "    ax.get_yaxis().set_major_formatter(majorFormatterY)\n",
    "    plt.xticks(rotation=xtickrot)\n",
    "    ax = plt.subplot(3,3,6)\n",
    "    plt.plot(np.multiply(dl_dmu*osfact,imnd),rint,linewidth=2,color='k')\n",
    "    if (lntype == 'lln'):\n",
    "        plt.title(r'$\\mu (\\partial l^{\\prime}$/$\\partial \\mu)$, n='+str(cn),fontsize='small')\n",
    "    elif (lntype == 'pln'):\n",
    "        plt.title(r'$\\mu (\\partial l$/$\\partial \\mu)$, n='+str(cn),fontsize='small')\n",
    "    else:\n",
    "        plt.title(r'$\\mu (\\partial l^{\\prime\\prime}$/$\\partial \\mu)$, n='+str(cn),fontsize='small')\n",
    "    plt.ylim([rmin,rmax])\n",
    "    if (useDepth == True):\n",
    "        plt.ylabel('Depth [km] ', fontsize='x-small')\n",
    "    else:\n",
    "        plt.ylabel('Radius [km] ', fontsize='x-small')\n",
    "    plt.grid(True)\n",
    "    if (setXLim == True):\n",
    "        plt.xlim([xmin6,xmax6])\n",
    "    plt.tick_params(labelsize='x-small')\n",
    "    ax.get_xaxis().set_major_locator(MaxNLocator(numxticks))\n",
    "    ax.get_yaxis().set_major_locator(MultipleLocator(ytickspace))\n",
    "    ax.get_xaxis().set_major_formatter(majorFormatter)\n",
    "    ax.get_yaxis().set_major_formatter(majorFormatterY)\n",
    "    plt.xticks(rotation=xtickrot)\n",
    "    ax = plt.subplot(3,3,8)\n",
    "    plt.plot(np.multiply(dh_dK*osfact,iknd),rint,linewidth=2,color='k')\n",
    "    if (lntype == 'lln'):\n",
    "        plt.title(r'$\\kappa (\\partial h^{\\prime}$/$\\partial \\kappa)$, n='+str(cn),fontsize='small')\n",
    "    elif (lntype == 'pln'):\n",
    "        plt.title(r'$\\kappa (\\partial h$/$\\partial \\kappa)$, n='+str(cn),fontsize='small')\n",
    "    else: \n",
    "        plt.title(r'$\\kappa (\\partial h^{\\prime\\prime}$/$\\partial \\kappa)$, n='+str(cn),fontsize='small')\n",
    "    plt.ylim([rmin,rmax])\n",
    "    if (useDepth == True):\n",
    "        plt.ylabel('Depth [km] ', fontsize='x-small')\n",
    "    else:\n",
    "        plt.ylabel('Radius [km] ', fontsize='x-small')    \n",
    "    plt.grid(True)\n",
    "    if (setXLim == True):\n",
    "        plt.xlim([xmin8,xmax8])\n",
    "    plt.tick_params(labelsize='x-small')\n",
    "    ax.get_xaxis().set_major_locator(MaxNLocator(numxticks))\n",
    "    ax.get_yaxis().set_major_locator(MultipleLocator(ytickspace))\n",
    "    ax.get_xaxis().set_major_formatter(majorFormatter)\n",
    "    ax.get_yaxis().set_major_formatter(majorFormatterY)\n",
    "    plt.xticks(rotation=xtickrot)\n",
    "    ax = plt.subplot(3,3,5)\n",
    "    plt.plot(np.multiply(dl_dK*osfact,iknd),rint,linewidth=2,color='k')\n",
    "    if (lntype == 'lln'):\n",
    "        plt.title(r'$\\kappa (\\partial l^{\\prime}$/$\\partial \\kappa)$, n='+str(cn),fontsize='small')\n",
    "    elif (lntype == 'pln'):\n",
    "        plt.title(r'$\\kappa (\\partial l$/$\\partial \\kappa)$, n='+str(cn),fontsize='small')\n",
    "    else:\n",
    "        plt.title(r'$\\kappa (\\partial l^{\\prime\\prime}$/$\\partial \\kappa)$, n='+str(cn),fontsize='small')\n",
    "    plt.ylim([rmin,rmax])\n",
    "    if (useDepth == True):\n",
    "        plt.ylabel('Depth [km] ', fontsize='x-small')\n",
    "    else:\n",
    "        plt.ylabel('Radius [km] ', fontsize='x-small')    \n",
    "    plt.grid(True)\n",
    "    if (setXLim == True):\n",
    "        plt.xlim([xmin5,xmax5])\n",
    "    plt.tick_params(labelsize='x-small')\n",
    "    ax.get_xaxis().set_major_locator(MaxNLocator(numxticks))\n",
    "    ax.get_yaxis().set_major_locator(MultipleLocator(ytickspace))\n",
    "    ax.get_xaxis().set_major_formatter(majorFormatter)\n",
    "    ax.get_yaxis().set_major_formatter(majorFormatterY)\n",
    "#    ax.axhline(y=0, color='k')\n",
    "#    ax.axvline(x=0, color='k')\n",
    "    plt.xticks(rotation=xtickrot)\n",
    "    ax = plt.subplot(3,3,7)\n",
    "    plt.plot(np.multiply(dh_drho*osfact,irnd),rint,linewidth=2,color='k')\n",
    "    if (lntype == 'lln'):\n",
    "        plt.title(r'$\\rho (\\partial h^{\\prime}$/$\\partial \\rho)$, n='+str(cn),fontsize='small')\n",
    "    elif (lntype == 'pln'):\n",
    "        plt.title(r'$\\rho (\\partial h$/$\\partial \\rho)$, n='+str(cn),fontsize='small')\n",
    "    else:\n",
    "        plt.title(r'$\\rho (\\partial h^{\\prime\\prime}$/$\\partial \\rho)$, n='+str(cn),fontsize='small')\n",
    "    plt.ylim([rmin,rmax])\n",
    "    if (useDepth == True):\n",
    "        plt.ylabel('Depth [km] ', fontsize='x-small')\n",
    "    else:\n",
    "        plt.ylabel('Radius [km] ', fontsize='x-small')    \n",
    "    plt.grid(True)\n",
    "    if (setXLim == True):\n",
    "        plt.xlim([xmin7,xmax7])\n",
    "    plt.tick_params(labelsize='x-small')\n",
    "    ax.get_xaxis().set_major_locator(MaxNLocator(numxticks))\n",
    "    ax.get_yaxis().set_major_locator(MultipleLocator(ytickspace))\n",
    "    ax.get_xaxis().set_major_formatter(majorFormatter)\n",
    "    ax.get_yaxis().set_major_formatter(majorFormatterY)\n",
    "    plt.xticks(rotation=xtickrot)\n",
    "    ax = plt.subplot(3,3,4) \n",
    "    plt.plot(np.multiply(dl_drho*osfact,irnd),rint,linewidth=2,color='k')\n",
    "    if (lntype == 'lln'):\n",
    "        plt.title(r'$\\rho (\\partial l^{\\prime}$/$\\partial \\rho)$, n='+str(cn),fontsize='small')\n",
    "    elif (lntype == 'pln'):\n",
    "        plt.title(r'$\\rho (\\partial l$/$\\partial \\rho)$, n='+str(cn),fontsize='small')\n",
    "    else:\n",
    "        plt.title(r'$\\rho (\\partial l^{\\prime\\prime}$/$\\partial \\rho)$, n='+str(cn),fontsize='small')\n",
    "    plt.ylim([rmin,rmax])\n",
    "    if (useDepth == True):\n",
    "        plt.ylabel('Depth [km] ', fontsize='x-small')\n",
    "    else:\n",
    "        plt.ylabel('Radius [km] ', fontsize='x-small')\n",
    "    plt.grid(True)\n",
    "    if (setXLim == True):\n",
    "        plt.xlim([xmin4,xmax4])\n",
    "    plt.tick_params(labelsize='x-small')\n",
    "    ax.get_xaxis().set_major_locator(MaxNLocator(numxticks))\n",
    "    ax.get_yaxis().set_major_locator(MultipleLocator(ytickspace))\n",
    "    ax.get_xaxis().set_major_formatter(majorFormatter)\n",
    "    ax.get_yaxis().set_major_formatter(majorFormatterY)\n",
    "    plt.xticks(rotation=xtickrot)\n",
    "    ax = plt.subplot(3,3,1)\n",
    "    plt.plot(np.multiply(dk_drho*osfact,irnd),rint,linewidth=2,color='k')\n",
    "    if (lntype == 'lln'):\n",
    "        plt.title(r'$\\rho (\\partial k^{\\prime}$/$\\partial \\rho)$, n='+str(cn),fontsize='small')\n",
    "    elif (lntype == 'pln'):\n",
    "        plt.title(r'$\\rho (\\partial k$/$\\partial \\rho)$, n='+str(cn),fontsize='small')\n",
    "    else:\n",
    "        plt.title(r'$\\rho (\\partial k^{\\prime\\prime}$/$\\partial \\rho)$, n='+str(cn),fontsize='small')\n",
    "    plt.ylim([rmin,rmax])\n",
    "    if (useDepth == True):\n",
    "        plt.ylabel('Depth [km] ', fontsize='x-small')\n",
    "    else:\n",
    "        plt.ylabel('Radius [km] ', fontsize='x-small')\n",
    "    plt.grid(True)\n",
    "    if (setXLim == True):\n",
    "        plt.xlim([xmin1,xmax1])\n",
    "    plt.tick_params(labelsize='x-small')\n",
    "    ax.get_xaxis().set_major_locator(MaxNLocator(numxticks))\n",
    "    ax.get_yaxis().set_major_locator(MultipleLocator(ytickspace))\n",
    "    ax.get_xaxis().set_major_formatter(majorFormatter)\n",
    "    ax.get_yaxis().set_major_formatter(majorFormatterY)\n",
    "    plt.xticks(rotation=xtickrot)\n",
    "    ax = plt.subplot(3,3,2)\n",
    "    plt.plot(np.multiply(dk_dK*osfact,iknd),rint,linewidth=2,color='k')\n",
    "    if (lntype == 'lln'):\n",
    "        plt.title(r'$\\kappa (\\partial k^{\\prime}$/$\\partial \\kappa)$, n='+str(cn),fontsize='small')\n",
    "    elif (lntype == 'pln'):\n",
    "        plt.title(r'$\\kappa (\\partial k$/$\\partial \\kappa)$, n='+str(cn),fontsize='small')\n",
    "    else:\n",
    "        plt.title(r'$\\kappa (\\partial k^{\\prime\\prime}$/$\\partial \\kappa)$, n='+str(cn),fontsize='small')\n",
    "    plt.ylim([rmin,rmax])\n",
    "    if (useDepth == True):\n",
    "        plt.ylabel('Depth [km] ', fontsize='x-small')\n",
    "    else:\n",
    "        plt.ylabel('Radius [km] ', fontsize='x-small')    \n",
    "    plt.grid(True)\n",
    "    if (setXLim == True):\n",
    "        plt.xlim([xmin2,xmax2])\n",
    "    plt.tick_params(labelsize='x-small')\n",
    "    ax.get_xaxis().set_major_locator(MaxNLocator(numxticks))\n",
    "    ax.get_yaxis().set_major_locator(MultipleLocator(ytickspace))\n",
    "    ax.get_xaxis().set_major_formatter(majorFormatter)\n",
    "    ax.get_yaxis().set_major_formatter(majorFormatterY)\n",
    "    plt.xticks(rotation=xtickrot)\n",
    "    ax = plt.subplot(3,3,3)\n",
    "    plt.plot(np.multiply(dk_dmu*osfact,imnd),rint,linewidth=2,color='k')\n",
    "    if (lntype == 'lln'):\n",
    "        plt.title(r'$\\mu (\\partial k^{\\prime}$/$\\partial \\mu)$, n='+str(cn),fontsize='small')\n",
    "    elif (lntype == 'pln'):\n",
    "        plt.title(r'$\\mu (\\partial k$/$\\partial \\mu)$, n='+str(cn),fontsize='small')\n",
    "    else:\n",
    "        plt.title(r'$\\mu (\\partial k^{\\prime\\prime}$/$\\partial \\mu)$, n='+str(cn),fontsize='small')\n",
    "    plt.ylim([rmin,rmax])\n",
    "    if (useDepth == True):\n",
    "        plt.ylabel('Depth [km] ', fontsize='x-small')\n",
    "    else:\n",
    "        plt.ylabel('Radius [km] ', fontsize='x-small')    \n",
    "    plt.grid(True)\n",
    "    if (setXLim == True):\n",
    "        plt.xlim([xmin3,xmax3])\n",
    "    plt.tight_layout()\n",
    "    plt.tick_params(labelsize='x-small')\n",
    "    ax.get_xaxis().set_major_locator(MaxNLocator(numxticks))\n",
    "    ax.get_yaxis().set_major_locator(MultipleLocator(ytickspace))\n",
    "    ax.get_xaxis().set_major_formatter(majorFormatter)\n",
    "    ax.get_yaxis().set_major_formatter(majorFormatterY)\n",
    "    plt.xticks(rotation=xtickrot)\n",
    "else:\n",
    "    ax = plt.subplot(2,3,3)\n",
    "    plt.plot(np.multiply(dh_dmu*osfact,imnd),rint,linewidth=2,color='k')\n",
    "    if (lntype == 'lln'):\n",
    "        plt.title(r'$\\mu (\\partial h^{\\prime}$/$\\partial \\mu)$, n='+str(cn),fontsize='small')\n",
    "    elif (lntype == 'pln'):\n",
    "        plt.title(r'$\\mu (\\partial h$/$\\partial \\mu)$, n='+str(cn),fontsize='small')\n",
    "    elif (lntype == 'sln'):\n",
    "        plt.title(r'$\\mu (\\partial h^{\\prime\\prime\\prime}$/$\\partial \\mu)$, n='+str(cn),fontsize='small')\n",
    "    else:\n",
    "        sys.exit('Error: Incorrect Love Number Type. Please Specify \"lln\", \"pln\" or \"sln\".')    \n",
    "    plt.ylim([rmin,rmax])\n",
    "    plt.grid(True)\n",
    "    if (useDepth == True):\n",
    "        plt.ylabel('Depth [km] ', fontsize='x-small')\n",
    "    else:\n",
    "        plt.ylabel('Radius [km] ', fontsize='x-small')    \n",
    "    if (setXLim == True):\n",
    "        plt.xlim([n1xmin3,n1xmax3])\n",
    "        numxticks = 3\n",
    "    plt.tick_params(labelsize='x-small')\n",
    "    ax.get_xaxis().set_major_locator(MaxNLocator(numxticks))\n",
    "    ax.get_yaxis().set_major_locator(MultipleLocator(ytickspace))\n",
    "    ax.get_xaxis().set_major_formatter(majorFormatter)\n",
    "    ax.get_yaxis().set_major_formatter(majorFormatterY)\n",
    "    plt.xticks(rotation=xtickrot)\n",
    "    ax = plt.subplot(2,3,6)\n",
    "    plt.plot(np.multiply(dl_dmu*osfact,imnd),rint,linewidth=2,color='k')\n",
    "    if (lntype == 'lln'):\n",
    "        plt.title(r'$\\mu (\\partial l^{\\prime}$/$\\partial \\mu)$, n='+str(cn),fontsize='small')\n",
    "    elif (lntype == 'pln'):\n",
    "        plt.title(r'$\\mu (\\partial l$/$\\partial \\mu)$, n='+str(cn),fontsize='small')\n",
    "    else:\n",
    "        plt.title(r'$\\mu (\\partial l^{\\prime\\prime\\prime}$/$\\partial \\mu)$, n='+str(cn),fontsize='small')\n",
    "    plt.ylim([rmin,rmax])\n",
    "    plt.grid(True)\n",
    "    if (useDepth == True):\n",
    "        plt.ylabel('Depth [km] ', fontsize='x-small')\n",
    "    else:\n",
    "        plt.ylabel('Radius [km] ', fontsize='x-small')    \n",
    "    plt.tick_params(labelsize='x-small')\n",
    "    if (setXLim == True):\n",
    "        plt.xlim([n1xmin6,n1xmax6])\n",
    "        if (lntype == 'sln'):\n",
    "            numxticks = 3\n",
    "        if (lntype == 'lln'):\n",
    "            numxticks = 5\n",
    "    ax.get_xaxis().set_major_locator(MaxNLocator(numxticks))\n",
    "    ax.get_yaxis().set_major_locator(MultipleLocator(ytickspace))\n",
    "    ax.get_xaxis().set_major_formatter(majorFormatter)\n",
    "    ax.get_yaxis().set_major_formatter(majorFormatterY)\n",
    "    plt.xticks(rotation=xtickrot)\n",
    "    ax = plt.subplot(2,3,2)\n",
    "    plt.plot(np.multiply(dh_dK*osfact,iknd),rint,linewidth=2,color='k')\n",
    "    if (lntype == 'lln'):\n",
    "        plt.title(r'$\\kappa (\\partial h^{\\prime}$/$\\partial \\kappa)$, n='+str(cn),fontsize='small')\n",
    "    elif (lntype == 'pln'):\n",
    "        plt.title(r'$\\kappa (\\partial h$/$\\partial \\kappa)$, n='+str(cn),fontsize='small')\n",
    "    else:\n",
    "        plt.title(r'$\\kappa (\\partial h^{\\prime\\prime\\prime}$/$\\partial \\kappa)$, n='+str(cn),fontsize='small')\n",
    "    plt.ylim([rmin,rmax])\n",
    "    plt.grid(True)\n",
    "    if (useDepth == True):\n",
    "        plt.ylabel('Depth [km] ', fontsize='x-small')\n",
    "    else:\n",
    "        plt.ylabel('Radius [km] ', fontsize='x-small')    \n",
    "    plt.tick_params(labelsize='x-small')\n",
    "    if (setXLim == True):\n",
    "        plt.xlim([n1xmin2,n1xmax2])\n",
    "        numxticks = 3\n",
    "    ax.get_xaxis().set_major_locator(MaxNLocator(numxticks))\n",
    "    ax.get_yaxis().set_major_locator(MultipleLocator(ytickspace))\n",
    "    ax.get_xaxis().set_major_formatter(majorFormatter)\n",
    "    ax.get_yaxis().set_major_formatter(majorFormatterY)\n",
    "    plt.xticks(rotation=xtickrot)\n",
    "    ax = plt.subplot(2,3,5)\n",
    "    plt.plot(np.multiply(dl_dK*osfact,iknd),rint,linewidth=2,color='k')\n",
    "    if (lntype == 'lln'):\n",
    "        plt.title(r'$\\kappa (\\partial l^{\\prime}$/$\\partial \\kappa)$, n='+str(cn),fontsize='small')\n",
    "    elif (lntype == 'pln'):\n",
    "        plt.title(r'$\\kappa (\\partial l$/$\\partial \\kappa)$, n='+str(cn),fontsize='small')\n",
    "    else:\n",
    "        plt.title(r'$\\kappa (\\partial l^{\\prime\\prime\\prime}$/$\\partial \\kappa)$, n='+str(cn),fontsize='small')\n",
    "    plt.ylim([rmin,rmax])\n",
    "    plt.grid(True)\n",
    "    if (useDepth == True):\n",
    "        plt.ylabel('Depth [km] ', fontsize='x-small')\n",
    "    else:\n",
    "        plt.ylabel('Radius [km] ', fontsize='x-small')    \n",
    "    plt.tick_params(labelsize='x-small')\n",
    "    if (setXLim == True):\n",
    "        plt.xlim([n1xmin5,n1xmax5])\n",
    "        if (lntype == 'sln'):\n",
    "            numxticks = 3\n",
    "        if (lntype == 'lln'):\n",
    "            numxticks = 5\n",
    "    ax.get_xaxis().set_major_locator(MaxNLocator(numxticks))\n",
    "    ax.get_yaxis().set_major_locator(MultipleLocator(ytickspace))\n",
    "    ax.get_xaxis().set_major_formatter(majorFormatter)\n",
    "    ax.get_yaxis().set_major_formatter(majorFormatterY)\n",
    "    plt.xticks(rotation=xtickrot)\n",
    "    ax = plt.subplot(2,3,1)\n",
    "    plt.plot(np.multiply(dh_drho*osfact,irnd),rint,linewidth=2,color='k')\n",
    "    if (lntype == 'lln'):\n",
    "        plt.title(r'$\\rho (\\partial h^{\\prime}$/$\\partial \\rho)$, n='+str(cn),fontsize='small')\n",
    "    elif (lntype == 'pln'):\n",
    "        plt.title(r'$\\rho (\\partial h$/$\\partial \\rho)$, n='+str(cn),fontsize='small')\n",
    "    else:\n",
    "        plt.title(r'$\\rho (\\partial h^{\\prime\\prime\\prime}$/$\\partial \\rho)$, n='+str(cn),fontsize='small')\n",
    "    plt.ylim([rmin,rmax])\n",
    "    plt.grid(True)\n",
    "    if (useDepth == True):\n",
    "        plt.ylabel('Depth [km] ', fontsize='x-small')\n",
    "    else:\n",
    "        plt.ylabel('Radius [km] ', fontsize='x-small')    \n",
    "    plt.tick_params(labelsize='x-small')\n",
    "    if (setXLim == True):\n",
    "        plt.xlim([n1xmin1,n1xmax1])\n",
    "        numxticks = 3\n",
    "    ax.get_xaxis().set_major_locator(MaxNLocator(numxticks))\n",
    "    ax.get_yaxis().set_major_locator(MultipleLocator(ytickspace))\n",
    "    ax.get_xaxis().set_major_formatter(majorFormatter)\n",
    "    ax.get_yaxis().set_major_formatter(majorFormatterY)\n",
    "    plt.xticks(rotation=xtickrot)\n",
    "    ax = plt.subplot(2,3,4)\n",
    "    plt.plot(np.multiply(dl_drho*osfact,irnd),rint,linewidth=2,color='k')\n",
    "    if (lntype == 'lln'):\n",
    "        plt.title(r'$\\rho (\\partial l^{\\prime}$/$\\partial \\rho)$, n='+str(cn),fontsize='small')\n",
    "    elif (lntype == 'pln'):\n",
    "        plt.title(r'$\\rho (\\partial l$/$\\partial \\rho)$, n='+str(cn),fontsize='small')\n",
    "    else:\n",
    "        plt.title(r'$\\rho (\\partial l^{\\prime\\prime\\prime}$/$\\partial \\rho)$, n='+str(cn),fontsize='small')\n",
    "    plt.ylim([rmin,rmax])\n",
    "    plt.grid(True)\n",
    "    if (useDepth == True):\n",
    "        plt.ylabel('Depth [km] ', fontsize='x-small')\n",
    "    else:\n",
    "        plt.ylabel('Radius [km] ', fontsize='x-small')    \n",
    "    plt.tick_params(labelsize='x-small')\n",
    "    if (setXLim == True):\n",
    "        plt.xlim([n1xmin4,n1xmax4])\n",
    "        if (lntype == 'sln'):\n",
    "            numxticks = 3\n",
    "        if (lntype == 'lln'):\n",
    "            numxticks = 5\n",
    "    ax.get_xaxis().set_major_locator(MaxNLocator(numxticks))\n",
    "    ax.get_yaxis().set_major_locator(MultipleLocator(ytickspace))\n",
    "    ax.get_xaxis().set_major_formatter(majorFormatter)\n",
    "    ax.get_yaxis().set_major_formatter(majorFormatterY)\n",
    "    plt.xticks(rotation=xtickrot)\n",
    "plt.tight_layout()\n",
    "plt.savefig((outdir+figname),orientation='landscape',format='pdf')\n",
    "plt.show()"
   ]
  },
  {
   "cell_type": "code",
   "execution_count": null,
   "metadata": {},
   "outputs": [],
   "source": []
  }
 ],
 "metadata": {
  "kernelspec": {
   "display_name": "Python 3 (ipykernel)",
   "language": "python",
   "name": "python3"
  },
  "language_info": {
   "codemirror_mode": {
    "name": "ipython",
    "version": 3
   },
   "file_extension": ".py",
   "mimetype": "text/x-python",
   "name": "python",
   "nbconvert_exporter": "python",
   "pygments_lexer": "ipython3",
   "version": "3.10.13"
  }
 },
 "nbformat": 4,
 "nbformat_minor": 4
}
