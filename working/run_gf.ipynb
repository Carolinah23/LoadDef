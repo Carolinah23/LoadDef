{
 "cells": [
  {
   "cell_type": "code",
   "execution_count": 1,
   "metadata": {},
   "outputs": [],
   "source": [
    "#!/usr/bin/env python"
   ]
  },
  {
   "cell_type": "markdown",
   "metadata": {},
   "source": [
    "*********************************************************************<br>\n",
    "MAIN PROGRAM TO COMPUTE LOAD GREENS FUNCTIONS (DISPLACEMENT, GRAVITY, TILT, STRAIN)<br>\n",
    "<br>\n",
    "Copyright (c) 2014-2023: HILARY R. MARTENS, LUIS RIVERA, MARK SIMONS         <br>\n",
    "<br>\n",
    "This file is part of LoadDef.<br>\n",
    "<br>\n",
    "   LoadDef is free software: you can redistribute it and/or modify<br>\n",
    "   it under the terms of the GNU General Public License as published by<br>\n",
    "   the Free Software Foundation, either version 3 of the License, or<br>\n",
    "   any later version.<br>\n",
    "<br>\n",
    "   LoadDef is distributed in the hope that it will be useful,<br>\n",
    "   but WITHOUT ANY WARRANTY; without even the implied warranty of<br>\n",
    "   MERCHANTABILITY or FITNESS FOR A PARTICULAR PURPOSE.  See the<br>\n",
    "   GNU General Public License for more details.<br>\n",
    "<br>\n",
    "   You should have received a copy of the GNU General Public License<br>\n",
    "   along with LoadDef.  If not, see <https://www.gnu.org/licenses/>.<br>\n",
    "<br>\n",
    "*********************************************************************"
   ]
  },
  {
   "cell_type": "markdown",
   "metadata": {},
   "source": [
    "IMPORT MPI MODULE"
   ]
  },
  {
   "cell_type": "code",
   "execution_count": 2,
   "metadata": {},
   "outputs": [],
   "source": [
    "from mpi4py import MPI"
   ]
  },
  {
   "cell_type": "markdown",
   "metadata": {},
   "source": [
    "MODIFY PYTHON PATH TO INCLUDE 'LoadDef' DIRECTORY"
   ]
  },
  {
   "cell_type": "code",
   "execution_count": 3,
   "metadata": {},
   "outputs": [],
   "source": [
    "import sys\n",
    "import os\n",
    "sys.path.append(os.getcwd() + \"/../\")"
   ]
  },
  {
   "cell_type": "markdown",
   "metadata": {},
   "source": [
    "IMPORT PYTHON MODULES"
   ]
  },
  {
   "cell_type": "code",
   "execution_count": 4,
   "metadata": {},
   "outputs": [],
   "source": [
    "import numpy as np\n",
    "from LOADGF.GF import compute_greens_functions"
   ]
  },
  {
   "cell_type": "markdown",
   "metadata": {},
   "source": [
    "--------------- SPECIFY USER INPUTS --------------------- #"
   ]
  },
  {
   "cell_type": "code",
   "execution_count": 5,
   "metadata": {},
   "outputs": [],
   "source": [
    " \n",
    "# Full path to Load Love Number file (output from run_ln.py)\n",
    "lln_file = (\"../output/Love_Numbers/LLN/lln_PREM.txt\")"
   ]
  },
  {
   "cell_type": "markdown",
   "metadata": {},
   "source": [
    "Output filename (Default is 'grn.txt')"
   ]
  },
  {
   "cell_type": "code",
   "execution_count": 6,
   "metadata": {},
   "outputs": [],
   "source": [
    "file_out = (\"PREM.txt\")"
   ]
  },
  {
   "cell_type": "markdown",
   "metadata": {},
   "source": [
    "------------------ END USER INPUTS ----------------------- #"
   ]
  },
  {
   "cell_type": "markdown",
   "metadata": {},
   "source": [
    "--------------------- SETUP MPI -------------------------- #"
   ]
  },
  {
   "cell_type": "markdown",
   "metadata": {},
   "source": [
    "Get the main MPI communicator that controls communication between processors"
   ]
  },
  {
   "cell_type": "code",
   "execution_count": 7,
   "metadata": {},
   "outputs": [],
   "source": [
    "comm = MPI.COMM_WORLD\n",
    "# Get my \"rank\", i.e. the processor number assigned to me\n",
    "rank = comm.Get_rank()\n",
    "# Get the total number of other processors used\n",
    "size = comm.Get_size()"
   ]
  },
  {
   "cell_type": "markdown",
   "metadata": {},
   "source": [
    "---------------------------------------------------------- #"
   ]
  },
  {
   "cell_type": "markdown",
   "metadata": {},
   "source": [
    "-------------------- BEGIN CODE -------------------------- #"
   ]
  },
  {
   "cell_type": "markdown",
   "metadata": {},
   "source": [
    "Ensure that the Output Directory Exists"
   ]
  },
  {
   "cell_type": "code",
   "execution_count": 8,
   "metadata": {},
   "outputs": [],
   "source": [
    "if (rank == 0):\n",
    "    if not (os.path.isdir(\"../output/Greens_Functions/\")):\n",
    "        os.makedirs(\"../output/Greens_Functions/\")"
   ]
  },
  {
   "cell_type": "markdown",
   "metadata": {},
   "source": [
    "Make sure all jobs have finished before continuing"
   ]
  },
  {
   "cell_type": "code",
   "execution_count": 9,
   "metadata": {},
   "outputs": [],
   "source": [
    "comm.Barrier()"
   ]
  },
  {
   "cell_type": "markdown",
   "metadata": {},
   "source": [
    "Compute the Displacement Greens functions (For Load Love Numbers Only)"
   ]
  },
  {
   "cell_type": "code",
   "execution_count": 10,
   "metadata": {},
   "outputs": [
    {
     "name": "stdout",
     "output_type": "stream",
     "text": [
      ":: Computing Greens Functions. Please Wait...\n",
      " \n",
      "Working on Angular Distance:     150.0 | Reference Frame: CE | Number:      1 of     50 | Rank:      0\n",
      "Working on Angular Distance:     150.0 | Reference Frame: CM | Number:      1 of     50 | Rank:      0\n",
      "Working on Angular Distance:     150.0 | Reference Frame: CF | Number:      1 of     50 | Rank:      0\n",
      "Working on Angular Distance:       0.1 | Reference Frame: CE | Number:      2 of     50 | Rank:      0\n",
      "Working on Angular Distance:       0.1 | Reference Frame: CM | Number:      2 of     50 | Rank:      0\n",
      "Working on Angular Distance:       0.1 | Reference Frame: CF | Number:      2 of     50 | Rank:      0\n",
      "Working on Angular Distance:     120.0 | Reference Frame: CE | Number:      3 of     50 | Rank:      0\n",
      "Working on Angular Distance:     120.0 | Reference Frame: CM | Number:      3 of     50 | Rank:      0\n",
      "Working on Angular Distance:     120.0 | Reference Frame: CF | Number:      3 of     50 | Rank:      0\n",
      "Working on Angular Distance:       0.2 | Reference Frame: CE | Number:      4 of     50 | Rank:      0\n",
      "Working on Angular Distance:       0.2 | Reference Frame: CM | Number:      4 of     50 | Rank:      0\n",
      "Working on Angular Distance:       0.2 | Reference Frame: CF | Number:      4 of     50 | Rank:      0\n",
      "Working on Angular Distance:      90.0 | Reference Frame: CE | Number:      5 of     50 | Rank:      0\n",
      "Working on Angular Distance:      90.0 | Reference Frame: CM | Number:      5 of     50 | Rank:      0\n",
      "Working on Angular Distance:      90.0 | Reference Frame: CF | Number:      5 of     50 | Rank:      0\n",
      "Working on Angular Distance:      0.08 | Reference Frame: CE | Number:      6 of     50 | Rank:      0\n",
      "Working on Angular Distance:      0.08 | Reference Frame: CM | Number:      6 of     50 | Rank:      0\n",
      "Working on Angular Distance:      0.08 | Reference Frame: CF | Number:      6 of     50 | Rank:      0\n",
      "Working on Angular Distance:      16.0 | Reference Frame: CE | Number:      7 of     50 | Rank:      0\n",
      "Working on Angular Distance:      16.0 | Reference Frame: CM | Number:      7 of     50 | Rank:      0\n",
      "Working on Angular Distance:      16.0 | Reference Frame: CF | Number:      7 of     50 | Rank:      0\n",
      "Working on Angular Distance:      30.0 | Reference Frame: CE | Number:      8 of     50 | Rank:      0\n",
      "Working on Angular Distance:      30.0 | Reference Frame: CM | Number:      8 of     50 | Rank:      0\n",
      "Working on Angular Distance:      30.0 | Reference Frame: CF | Number:      8 of     50 | Rank:      0\n",
      "Working on Angular Distance:      0.25 | Reference Frame: CE | Number:      9 of     50 | Rank:      0\n",
      "Working on Angular Distance:      0.25 | Reference Frame: CM | Number:      9 of     50 | Rank:      0\n",
      "Working on Angular Distance:      0.25 | Reference Frame: CF | Number:      9 of     50 | Rank:      0\n",
      "Working on Angular Distance:       4.0 | Reference Frame: CE | Number:     10 of     50 | Rank:      0\n",
      "Working on Angular Distance:       4.0 | Reference Frame: CM | Number:     10 of     50 | Rank:      0\n",
      "Working on Angular Distance:       4.0 | Reference Frame: CF | Number:     10 of     50 | Rank:      0\n",
      "Working on Angular Distance:       0.6 | Reference Frame: CE | Number:     11 of     50 | Rank:      0\n",
      "Working on Angular Distance:       0.6 | Reference Frame: CM | Number:     11 of     50 | Rank:      0\n",
      "Working on Angular Distance:       0.6 | Reference Frame: CF | Number:     11 of     50 | Rank:      0\n",
      "Working on Angular Distance:       2.5 | Reference Frame: CE | Number:     12 of     50 | Rank:      0\n",
      "Working on Angular Distance:       2.5 | Reference Frame: CM | Number:     12 of     50 | Rank:      0\n",
      "Working on Angular Distance:       2.5 | Reference Frame: CF | Number:     12 of     50 | Rank:      0\n",
      "Working on Angular Distance:     100.0 | Reference Frame: CE | Number:     13 of     50 | Rank:      0\n",
      "Working on Angular Distance:     100.0 | Reference Frame: CM | Number:     13 of     50 | Rank:      0\n",
      "Working on Angular Distance:     100.0 | Reference Frame: CF | Number:     13 of     50 | Rank:      0\n",
      "Working on Angular Distance:     160.0 | Reference Frame: CE | Number:     14 of     50 | Rank:      0\n",
      "Working on Angular Distance:     160.0 | Reference Frame: CM | Number:     14 of     50 | Rank:      0\n",
      "Working on Angular Distance:     160.0 | Reference Frame: CF | Number:     14 of     50 | Rank:      0\n",
      "Working on Angular Distance:      0.02 | Reference Frame: CE | Number:     15 of     50 | Rank:      0\n",
      "Working on Angular Distance:      0.02 | Reference Frame: CM | Number:     15 of     50 | Rank:      0\n",
      "Working on Angular Distance:      0.02 | Reference Frame: CF | Number:     15 of     50 | Rank:      0\n",
      "Working on Angular Distance:       2.0 | Reference Frame: CE | Number:     16 of     50 | Rank:      0\n",
      "Working on Angular Distance:       2.0 | Reference Frame: CM | Number:     16 of     50 | Rank:      0\n",
      "Working on Angular Distance:       2.0 | Reference Frame: CF | Number:     16 of     50 | Rank:      0\n",
      "Working on Angular Distance:      0.04 | Reference Frame: CE | Number:     17 of     50 | Rank:      0\n",
      "Working on Angular Distance:      0.04 | Reference Frame: CM | Number:     17 of     50 | Rank:      0\n",
      "Working on Angular Distance:      0.04 | Reference Frame: CF | Number:     17 of     50 | Rank:      0\n",
      "Working on Angular Distance:      60.0 | Reference Frame: CE | Number:     18 of     50 | Rank:      0\n",
      "Working on Angular Distance:      60.0 | Reference Frame: CM | Number:     18 of     50 | Rank:      0\n",
      "Working on Angular Distance:      60.0 | Reference Frame: CF | Number:     18 of     50 | Rank:      0\n",
      "Working on Angular Distance:       9.0 | Reference Frame: CE | Number:     19 of     50 | Rank:      0\n",
      "Working on Angular Distance:       9.0 | Reference Frame: CM | Number:     19 of     50 | Rank:      0\n",
      "Working on Angular Distance:       9.0 | Reference Frame: CF | Number:     19 of     50 | Rank:      0\n",
      "Working on Angular Distance:       0.5 | Reference Frame: CE | Number:     20 of     50 | Rank:      0\n",
      "Working on Angular Distance:       0.5 | Reference Frame: CM | Number:     20 of     50 | Rank:      0\n",
      "Working on Angular Distance:       0.5 | Reference Frame: CF | Number:     20 of     50 | Rank:      0\n",
      "Working on Angular Distance:     130.0 | Reference Frame: CE | Number:     21 of     50 | Rank:      0\n",
      "Working on Angular Distance:     130.0 | Reference Frame: CM | Number:     21 of     50 | Rank:      0\n",
      "Working on Angular Distance:     130.0 | Reference Frame: CF | Number:     21 of     50 | Rank:      0\n",
      "Working on Angular Distance:       1.2 | Reference Frame: CE | Number:     22 of     50 | Rank:      0\n",
      "Working on Angular Distance:       1.2 | Reference Frame: CM | Number:     22 of     50 | Rank:      0\n",
      "Working on Angular Distance:       1.2 | Reference Frame: CF | Number:     22 of     50 | Rank:      0\n",
      "Working on Angular Distance:      40.0 | Reference Frame: CE | Number:     23 of     50 | Rank:      0\n",
      "Working on Angular Distance:      40.0 | Reference Frame: CM | Number:     23 of     50 | Rank:      0\n",
      "Working on Angular Distance:      40.0 | Reference Frame: CF | Number:     23 of     50 | Rank:      0\n",
      "Working on Angular Distance:      0.01 | Reference Frame: CE | Number:     24 of     50 | Rank:      0\n",
      "Working on Angular Distance:      0.01 | Reference Frame: CM | Number:     24 of     50 | Rank:      0\n",
      "Working on Angular Distance:      0.01 | Reference Frame: CF | Number:     24 of     50 | Rank:      0\n",
      "Working on Angular Distance:      25.0 | Reference Frame: CE | Number:     25 of     50 | Rank:      0\n",
      "Working on Angular Distance:      25.0 | Reference Frame: CM | Number:     25 of     50 | Rank:      0\n",
      "Working on Angular Distance:      25.0 | Reference Frame: CF | Number:     25 of     50 | Rank:      0\n",
      "Working on Angular Distance:     170.0 | Reference Frame: CE | Number:     26 of     50 | Rank:      0\n",
      "Working on Angular Distance:     170.0 | Reference Frame: CM | Number:     26 of     50 | Rank:      0\n",
      "Working on Angular Distance:     170.0 | Reference Frame: CF | Number:     26 of     50 | Rank:      0\n",
      "Working on Angular Distance:      50.0 | Reference Frame: CE | Number:     27 of     50 | Rank:      0\n",
      "Working on Angular Distance:      50.0 | Reference Frame: CM | Number:     27 of     50 | Rank:      0\n",
      "Working on Angular Distance:      50.0 | Reference Frame: CF | Number:     27 of     50 | Rank:      0\n",
      "Working on Angular Distance:       0.8 | Reference Frame: CE | Number:     28 of     50 | Rank:      0\n",
      "Working on Angular Distance:       0.8 | Reference Frame: CM | Number:     28 of     50 | Rank:      0\n",
      "Working on Angular Distance:       0.8 | Reference Frame: CF | Number:     28 of     50 | Rank:      0\n",
      "Working on Angular Distance:      10.0 | Reference Frame: CE | Number:     29 of     50 | Rank:      0\n",
      "Working on Angular Distance:      10.0 | Reference Frame: CM | Number:     29 of     50 | Rank:      0\n",
      "Working on Angular Distance:      10.0 | Reference Frame: CF | Number:     29 of     50 | Rank:      0\n",
      "Working on Angular Distance:     140.0 | Reference Frame: CE | Number:     30 of     50 | Rank:      0\n",
      "Working on Angular Distance:     140.0 | Reference Frame: CM | Number:     30 of     50 | Rank:      0\n",
      "Working on Angular Distance:     140.0 | Reference Frame: CF | Number:     30 of     50 | Rank:      0\n",
      "Working on Angular Distance:      0.03 | Reference Frame: CE | Number:     31 of     50 | Rank:      0\n",
      "Working on Angular Distance:      0.03 | Reference Frame: CM | Number:     31 of     50 | Rank:      0\n",
      "Working on Angular Distance:      0.03 | Reference Frame: CF | Number:     31 of     50 | Rank:      0\n",
      "Working on Angular Distance:      12.0 | Reference Frame: CE | Number:     32 of     50 | Rank:      0\n",
      "Working on Angular Distance:      12.0 | Reference Frame: CM | Number:     32 of     50 | Rank:      0\n",
      "Working on Angular Distance:      12.0 | Reference Frame: CF | Number:     32 of     50 | Rank:      0\n",
      "Working on Angular Distance:       0.4 | Reference Frame: CE | Number:     33 of     50 | Rank:      0\n",
      "Working on Angular Distance:       0.4 | Reference Frame: CM | Number:     33 of     50 | Rank:      0\n",
      "Working on Angular Distance:       0.4 | Reference Frame: CF | Number:     33 of     50 | Rank:      0\n",
      "Working on Angular Distance:      0.16 | Reference Frame: CE | Number:     34 of     50 | Rank:      0\n",
      "Working on Angular Distance:      0.16 | Reference Frame: CM | Number:     34 of     50 | Rank:      0\n",
      "Working on Angular Distance:      0.16 | Reference Frame: CF | Number:     34 of     50 | Rank:      0\n",
      "Working on Angular Distance:      80.0 | Reference Frame: CE | Number:     35 of     50 | Rank:      0\n",
      "Working on Angular Distance:      80.0 | Reference Frame: CM | Number:     35 of     50 | Rank:      0\n",
      "Working on Angular Distance:      80.0 | Reference Frame: CF | Number:     35 of     50 | Rank:      0\n",
      "Working on Angular Distance:       8.0 | Reference Frame: CE | Number:     36 of     50 | Rank:      0\n",
      "Working on Angular Distance:       8.0 | Reference Frame: CM | Number:     36 of     50 | Rank:      0\n",
      "Working on Angular Distance:       8.0 | Reference Frame: CF | Number:     36 of     50 | Rank:      0\n",
      "Working on Angular Distance:    0.0001 | Reference Frame: CE | Number:     37 of     50 | Rank:      0\n",
      "Working on Angular Distance:    0.0001 | Reference Frame: CM | Number:     37 of     50 | Rank:      0\n",
      "Working on Angular Distance:    0.0001 | Reference Frame: CF | Number:     37 of     50 | Rank:      0\n",
      "Working on Angular Distance:       3.0 | Reference Frame: CE | Number:     38 of     50 | Rank:      0\n",
      "Working on Angular Distance:       3.0 | Reference Frame: CM | Number:     38 of     50 | Rank:      0\n",
      "Working on Angular Distance:       3.0 | Reference Frame: CF | Number:     38 of     50 | Rank:      0\n",
      "Working on Angular Distance:      70.0 | Reference Frame: CE | Number:     39 of     50 | Rank:      0\n",
      "Working on Angular Distance:      70.0 | Reference Frame: CM | Number:     39 of     50 | Rank:      0\n",
      "Working on Angular Distance:      70.0 | Reference Frame: CF | Number:     39 of     50 | Rank:      0\n",
      "Working on Angular Distance:      0.06 | Reference Frame: CE | Number:     40 of     50 | Rank:      0\n",
      "Working on Angular Distance:      0.06 | Reference Frame: CM | Number:     40 of     50 | Rank:      0\n",
      "Working on Angular Distance:      0.06 | Reference Frame: CF | Number:     40 of     50 | Rank:      0\n",
      "Working on Angular Distance:       7.0 | Reference Frame: CE | Number:     41 of     50 | Rank:      0\n",
      "Working on Angular Distance:       7.0 | Reference Frame: CM | Number:     41 of     50 | Rank:      0\n",
      "Working on Angular Distance:       7.0 | Reference Frame: CF | Number:     41 of     50 | Rank:      0\n",
      "Working on Angular Distance:       1.6 | Reference Frame: CE | Number:     42 of     50 | Rank:      0\n",
      "Working on Angular Distance:       1.6 | Reference Frame: CM | Number:     42 of     50 | Rank:      0\n",
      "Working on Angular Distance:       1.6 | Reference Frame: CF | Number:     42 of     50 | Rank:      0\n",
      "Working on Angular Distance:     110.0 | Reference Frame: CE | Number:     43 of     50 | Rank:      0\n",
      "Working on Angular Distance:     110.0 | Reference Frame: CM | Number:     43 of     50 | Rank:      0\n",
      "Working on Angular Distance:     110.0 | Reference Frame: CF | Number:     43 of     50 | Rank:      0\n",
      "Working on Angular Distance:     0.001 | Reference Frame: CE | Number:     44 of     50 | Rank:      0\n",
      "Working on Angular Distance:     0.001 | Reference Frame: CM | Number:     44 of     50 | Rank:      0\n",
      "Working on Angular Distance:     0.001 | Reference Frame: CF | Number:     44 of     50 | Rank:      0\n",
      "Working on Angular Distance:     180.0 | Reference Frame: CE | Number:     45 of     50 | Rank:      0\n",
      "Working on Angular Distance:     180.0 | Reference Frame: CM | Number:     45 of     50 | Rank:      0\n",
      "Working on Angular Distance:     180.0 | Reference Frame: CF | Number:     45 of     50 | Rank:      0\n",
      "Working on Angular Distance:       0.3 | Reference Frame: CE | Number:     46 of     50 | Rank:      0\n",
      "Working on Angular Distance:       0.3 | Reference Frame: CM | Number:     46 of     50 | Rank:      0\n",
      "Working on Angular Distance:       0.3 | Reference Frame: CF | Number:     46 of     50 | Rank:      0\n",
      "Working on Angular Distance:       1.0 | Reference Frame: CE | Number:     47 of     50 | Rank:      0\n",
      "Working on Angular Distance:       1.0 | Reference Frame: CM | Number:     47 of     50 | Rank:      0\n",
      "Working on Angular Distance:       1.0 | Reference Frame: CF | Number:     47 of     50 | Rank:      0\n",
      "Working on Angular Distance:      20.0 | Reference Frame: CE | Number:     48 of     50 | Rank:      0\n",
      "Working on Angular Distance:      20.0 | Reference Frame: CM | Number:     48 of     50 | Rank:      0\n",
      "Working on Angular Distance:      20.0 | Reference Frame: CF | Number:     48 of     50 | Rank:      0\n",
      "Working on Angular Distance:       6.0 | Reference Frame: CE | Number:     49 of     50 | Rank:      0\n",
      "Working on Angular Distance:       6.0 | Reference Frame: CM | Number:     49 of     50 | Rank:      0\n",
      "Working on Angular Distance:       6.0 | Reference Frame: CF | Number:     49 of     50 | Rank:      0\n",
      "Working on Angular Distance:       5.0 | Reference Frame: CE | Number:     50 of     50 | Rank:      0\n",
      "Working on Angular Distance:       5.0 | Reference Frame: CM | Number:     50 of     50 | Rank:      0\n",
      "Working on Angular Distance:       5.0 | Reference Frame: CF | Number:     50 of     50 | Rank:      0\n"
     ]
    }
   ],
   "source": [
    "if (rank == 0):\n",
    "    u,v,u_norm,v_norm,u_cm,v_cm,u_norm_cm,v_norm_cm,u_cf,v_cf,u_norm_cf,v_norm_cf,gE,gE_norm,gE_cm,gE_cm_norm,\\\n",
    "        gE_cf,gE_cf_norm,tE,tE_norm,tE_cm,tE_cm_norm,tE_cf,tE_cf_norm,\\\n",
    "        e_tt,e_ll,e_rr,e_tt_norm,e_ll_norm,e_rr_norm,e_tt_cm,e_ll_cm,e_rr_cm,e_tt_cm_norm,e_ll_cm_norm,e_rr_cm_norm,\\\n",
    "        e_tt_cf,e_ll_cf,e_rr_cf,e_tt_cf_norm,e_ll_cf_norm,e_rr_cf_norm,gN,tN = \\\n",
    "            compute_greens_functions.main(lln_file,rank,comm,size,grn_out=file_out)\n",
    "# For Worker Ranks, Run the Code But Don't Return Any Variables\n",
    "else:\n",
    "    compute_greens_functions.main(lln_file,rank,comm,size,grn_out=file_out)"
   ]
  },
  {
   "cell_type": "markdown",
   "metadata": {},
   "source": [
    "--------------------- END CODE --------------------------- #"
   ]
  },
  {
   "cell_type": "code",
   "execution_count": null,
   "metadata": {},
   "outputs": [],
   "source": []
  }
 ],
 "metadata": {
  "kernelspec": {
   "display_name": "Python 3 (ipykernel)",
   "language": "python",
   "name": "python3"
  },
  "language_info": {
   "codemirror_mode": {
    "name": "ipython",
    "version": 3
   },
   "file_extension": ".py",
   "mimetype": "text/x-python",
   "name": "python",
   "nbconvert_exporter": "python",
   "pygments_lexer": "ipython3",
   "version": "3.10.13"
  }
 },
 "nbformat": 4,
 "nbformat_minor": 4
}
